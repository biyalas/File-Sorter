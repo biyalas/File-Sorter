{
 "cells": [
  {
   "cell_type": "raw",
   "id": "0a598f2a-571d-4285-a5a7-41cc5a990432",
   "metadata": {},
   "source": [
    "Automatic File Sorter"
   ]
  },
  {
   "cell_type": "code",
   "execution_count": 1,
   "id": "4b544003-bce6-4359-b465-c1243fd9b064",
   "metadata": {},
   "outputs": [],
   "source": [
    "import os,shutil"
   ]
  },
  {
   "cell_type": "code",
   "execution_count": 9,
   "id": "05b84b0a-5728-4175-a846-773f45d2d2d1",
   "metadata": {},
   "outputs": [],
   "source": [
    "path = r\"C:/Users/Sneha Biyala/OneDrive/Pictures/Camera Roll/\" "
   ]
  },
  {
   "cell_type": "code",
   "execution_count": 11,
   "id": "e9365ce6-6834-46bb-a715-004fb570f3ed",
   "metadata": {},
   "outputs": [],
   "source": [
    "file_name = os.listdir(path)"
   ]
  },
  {
   "cell_type": "code",
   "execution_count": 31,
   "id": "44f8b92b-6484-4d29-9bb3-a1561f909f2c",
   "metadata": {},
   "outputs": [
    {
     "name": "stdout",
     "output_type": "stream",
     "text": [
      "C:/Users/Sneha Biyala/OneDrive/Pictures/Camera Roll/png files\n",
      "C:/Users/Sneha Biyala/OneDrive/Pictures/Camera Roll/jpeg files\n"
     ]
    }
   ],
   "source": [
    "folder_name = ['png files', 'image files', 'jpeg files']\n",
    "\n",
    "for loop in range(0,3):\n",
    "    if not os.path.exists(path+folder_name[loop]):\n",
    "        print(path+folder_name[loop])\n",
    "        os.makedirs((path+folder_name[loop]))\n"
   ]
  },
  {
   "cell_type": "code",
   "execution_count": 33,
   "id": "c323952c-ca04-448d-bd76-e12fbaef350c",
   "metadata": {
    "scrolled": true
   },
   "outputs": [],
   "source": [
    "for file in file_name:\n",
    "    if \".jpg\" in file and not os.path.exists(path + \"image files/\" + file):\n",
    "        shutil.move(path + file, path + \"image files/\" + file)\n"
   ]
  },
  {
   "cell_type": "code",
   "execution_count": 35,
   "id": "9216da3d-53b6-46ad-8a0b-ccfa1631974d",
   "metadata": {},
   "outputs": [],
   "source": [
    "for file in file_name:\n",
    "    if \".PNG\" in file and not os.path.exists(path + \"png files/\" + file):\n",
    "        shutil.move(path + file, path + \"png files/\" + file)"
   ]
  },
  {
   "cell_type": "code",
   "execution_count": 36,
   "id": "b59f33e3-a3e5-4dec-83f0-055832212eb1",
   "metadata": {},
   "outputs": [],
   "source": [
    "for file in file_name:\n",
    "    if \".JPEG\" in file and not os.path.exists(path + \"jpeg files/\" + file):\n",
    "        shutil.move(path + file, path + \"jpeg files/\" + file)"
   ]
  },
  {
   "cell_type": "code",
   "execution_count": null,
   "id": "8cd15c49-12cf-42ad-9f44-037f3019eb1a",
   "metadata": {},
   "outputs": [],
   "source": []
  },
  {
   "cell_type": "code",
   "execution_count": null,
   "id": "50b0fdac-95e5-4489-820b-c4f74cbee5df",
   "metadata": {},
   "outputs": [],
   "source": []
  }
 ],
 "metadata": {
  "kernelspec": {
   "display_name": "Python 3 (ipykernel)",
   "language": "python",
   "name": "python3"
  },
  "language_info": {
   "codemirror_mode": {
    "name": "ipython",
    "version": 3
   },
   "file_extension": ".py",
   "mimetype": "text/x-python",
   "name": "python",
   "nbconvert_exporter": "python",
   "pygments_lexer": "ipython3",
   "version": "3.13.0"
  }
 },
 "nbformat": 4,
 "nbformat_minor": 5
}
